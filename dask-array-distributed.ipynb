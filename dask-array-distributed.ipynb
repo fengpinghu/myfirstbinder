{
 "cells": [
  {
   "cell_type": "code",
   "execution_count": 1,
   "id": "1ee91d1c-96d1-485e-9d4a-a70b0877e9ca",
   "metadata": {},
   "outputs": [],
   "source": [
    "from dask_gateway import Gateway\n",
    "\n",
    "# -- Here we provide a few examples of creating a  object --\n",
    "\n",
    "# Gateway server running at http://daskgw.af.uchicago.edu with jupyterhub oauth\n",
    "gateway = Gateway(\n",
    "    address=\"http://daskgw.af.uchicago.edu\",\n",
    "    auth=\"jupyterhub\"\n",
    ")"
   ]
  },
  {
   "cell_type": "code",
   "execution_count": 2,
   "id": "6b3c8b55-1228-4fe6-a1d4-24fc4aa6a0b5",
   "metadata": {},
   "outputs": [
    {
     "name": "stdout",
     "output_type": "stream",
     "text": [
      "shutdown - dask-gateway.2c48661a6f2e432d95785e470c09b47f\n",
      "shutdown - dask-gateway.be42d1309d5848fb8a4ea2eea8567f2a\n",
      "shutdown - dask-gateway.a98c95544b664ef8879011d261509eb0\n",
      "shutdown - dask-gateway.a487ff1a19134cee8554261d3f81611b\n",
      "shutdown - dask-gateway.50c7dd5ccf4644d3b63ca92c9f8adc1f\n",
      "shutdown - dask-gateway.001a2e774a1a48cd8ae810f9ff9eee09\n",
      "shutdown - dask-gateway.9f44b48a0c9b4fa49c94b43959c017e9\n",
      "shutdown - dask-gateway.9be5c06016174f38951cb4efbe0b9e13\n",
      "shutdown - dask-gateway.208523f7f77847329c582cf51cf6acb9\n"
     ]
    }
   ],
   "source": [
    "clusters = gateway.list_clusters()\n",
    "for c in clusters:\n",
    "    print(f\"shutdown - {c.name}\")\n",
    "    cluster = gateway.connect(c.name)\n",
    "    cluster.shutdown()"
   ]
  },
  {
   "cell_type": "code",
   "execution_count": 2,
   "id": "0b21e5d8-1641-4026-a94f-873dac30f765",
   "metadata": {},
   "outputs": [],
   "source": [
    "options = gateway.cluster_options()"
   ]
  },
  {
   "cell_type": "code",
   "execution_count": 3,
   "id": "7049d9a8-6ad8-4016-8750-f7467a8b9107",
   "metadata": {},
   "outputs": [
    {
     "data": {
      "application/vnd.jupyter.widget-view+json": {
       "model_id": "e2e55b6e5093476180780d28ee7a8ba9",
       "version_major": 2,
       "version_minor": 0
      },
      "text/plain": [
       "VBox(children=(HTML(value='<h2>Cluster Options</h2>'), GridBox(children=(HTML(value=\"<p style='font-weight: bo…"
      ]
     },
     "metadata": {},
     "output_type": "display_data"
    }
   ],
   "source": [
    "#ghcr.io/dask/dask-gateway:2024.1.0 -- compatible with this repo\n",
    "#hub.opensciencegrid.org/usatlas/analysis-dask-gateway:test  -- atlas analysis base\n",
    "options"
   ]
  },
  {
   "cell_type": "code",
   "execution_count": 4,
   "id": "de04b02d-75c8-4ea0-95bd-b604f0055b40",
   "metadata": {},
   "outputs": [],
   "source": [
    "cluster = gateway.new_cluster(options)"
   ]
  },
  {
   "cell_type": "code",
   "execution_count": 5,
   "id": "bceae155-e6a5-4155-8840-1e166de9ccc0",
   "metadata": {},
   "outputs": [],
   "source": [
    "cluster.scale(2)"
   ]
  },
  {
   "cell_type": "code",
   "execution_count": 6,
   "id": "c58028f5-5cdd-4488-90cc-10433840086c",
   "metadata": {},
   "outputs": [
    {
     "name": "stderr",
     "output_type": "stream",
     "text": [
      "/srv/conda/envs/notebook/lib/python3.11/site-packages/distributed/client.py:1391: VersionMismatchWarning: Mismatched versions found\n",
      "\n",
      "+---------+----------------+----------------+---------+\n",
      "| Package | Client         | Scheduler      | Workers |\n",
      "+---------+----------------+----------------+---------+\n",
      "| msgpack | 1.0.8          | 1.0.7          | None    |\n",
      "| python  | 3.11.8.final.0 | 3.11.7.final.0 | None    |\n",
      "| toolz   | 0.12.1         | 0.12.0         | None    |\n",
      "+---------+----------------+----------------+---------+\n",
      "  warnings.warn(version_module.VersionMismatchWarning(msg[0][\"warning\"]))\n"
     ]
    }
   ],
   "source": [
    "client = cluster.get_client()\n"
   ]
  },
  {
   "cell_type": "code",
   "execution_count": 7,
   "id": "e7079bfe-c5bc-4a1c-b2c2-7308328b74ee",
   "metadata": {},
   "outputs": [],
   "source": [
    "import dask.array as da\n"
   ]
  },
  {
   "cell_type": "code",
   "execution_count": 8,
   "id": "a72a26e3-d2af-4fb9-996b-bdc5ec241919",
   "metadata": {},
   "outputs": [
    {
     "name": "stdout",
     "output_type": "stream",
     "text": [
      "CPU times: user 13.9 ms, sys: 6.14 ms, total: 20.1 ms\n",
      "Wall time: 7.54 s\n"
     ]
    },
    {
     "data": {
      "text/plain": [
       "array([ 9.99950683,  9.99995987,  9.99945455, ...,  9.99935682,\n",
       "       10.00007631,  9.99952977])"
      ]
     },
     "execution_count": 8,
     "metadata": {},
     "output_type": "execute_result"
    }
   ],
   "source": [
    "%%time\n",
    "xd = da.random.normal(10, 0.1, size=(30_000, 30_000), chunks=(3000, 3000))\n",
    "yd = xd.mean(axis=0)\n",
    "yd.compute()"
   ]
  },
  {
   "cell_type": "code",
   "execution_count": 10,
   "id": "242fcbb3-cd1a-4bcb-a98c-f89626a1faa2",
   "metadata": {},
   "outputs": [
    {
     "data": {
      "application/vnd.jupyter.widget-view+json": {
       "model_id": "32f2c7f036d64ebca00ebbfb053f2ff3",
       "version_major": 2,
       "version_minor": 0
      },
      "text/plain": [
       "VBox(children=(HTML(value='<h2>GatewayCluster</h2>'), HBox(children=(HTML(value='\\n<div>\\n<style scoped>\\n    …"
      ]
     },
     "metadata": {},
     "output_type": "display_data"
    }
   ],
   "source": [
    "cluster\n"
   ]
  },
  {
   "cell_type": "code",
   "execution_count": null,
   "id": "4de885f0-230c-4918-aa6c-1ae8ab3a7abc",
   "metadata": {},
   "outputs": [],
   "source": []
  }
 ],
 "metadata": {
  "kernelspec": {
   "display_name": "Python 3 (ipykernel)",
   "language": "python",
   "name": "python3"
  },
  "language_info": {
   "codemirror_mode": {
    "name": "ipython",
    "version": 3
   },
   "file_extension": ".py",
   "mimetype": "text/x-python",
   "name": "python",
   "nbconvert_exporter": "python",
   "pygments_lexer": "ipython3",
   "version": "3.11.8"
  }
 },
 "nbformat": 4,
 "nbformat_minor": 5
}
